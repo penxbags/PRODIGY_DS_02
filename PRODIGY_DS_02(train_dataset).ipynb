{
 "cells": [
  {
   "cell_type": "code",
   "execution_count": 1,
   "id": "633a86bc",
   "metadata": {},
   "outputs": [],
   "source": [
    "#SECOND TASK\n",
    "#1.Load the train.csv dataset\n",
    "import pandas as pd\n",
    "import seaborn as sns\n",
    "import matplotlib.pyplot as plt\n",
    "#import train dataset\n",
    "#here dataframe by the name train is created \n",
    "train=pd.read_csv(\"C:\\\\Users\\\\pattnaik\\\\Desktop\\\\Prodigy InfoTech Internship\\\\datasets\\\\train_dataset.csv\")"
   ]
  },
  {
   "cell_type": "code",
   "execution_count": 2,
   "id": "4b8ff327",
   "metadata": {},
   "outputs": [
    {
     "name": "stdout",
     "output_type": "stream",
     "text": [
      "(550068, 12)\n"
     ]
    }
   ],
   "source": [
    "#2.Display how many rows and columns are present in the data set.\n",
    "print(train.shape) "
   ]
  },
  {
   "cell_type": "code",
   "execution_count": 3,
   "id": "7bd8589a",
   "metadata": {},
   "outputs": [
    {
     "data": {
      "text/plain": [
       "array(['User_ID', 'Product_ID', 'Gender', 'Age', 'Occupation',\n",
       "       'City_Category', 'Stay_In_Current_City_Years', 'Marital_Status',\n",
       "       'Product_Category_1', 'Product_Category_2', 'Product_Category_3',\n",
       "       'Purchase'], dtype=object)"
      ]
     },
     "execution_count": 3,
     "metadata": {},
     "output_type": "execute_result"
    }
   ],
   "source": [
    "#3.display column names in the form of an array\n",
    "train.columns.values "
   ]
  },
  {
   "cell_type": "code",
   "execution_count": 4,
   "id": "c0a38439",
   "metadata": {},
   "outputs": [
    {
     "data": {
      "text/plain": [
       "['User_ID',\n",
       " 'Product_ID',\n",
       " 'Gender',\n",
       " 'Age',\n",
       " 'Occupation',\n",
       " 'City_Category',\n",
       " 'Stay_In_Current_City_Years',\n",
       " 'Marital_Status',\n",
       " 'Product_Category_1',\n",
       " 'Product_Category_2',\n",
       " 'Product_Category_3',\n",
       " 'Purchase']"
      ]
     },
     "execution_count": 4,
     "metadata": {},
     "output_type": "execute_result"
    }
   ],
   "source": [
    "#4.display column names in the form of a list\n",
    "list(train.columns)"
   ]
  },
  {
   "cell_type": "code",
   "execution_count": 5,
   "id": "bfe1996b",
   "metadata": {},
   "outputs": [
    {
     "data": {
      "text/html": [
       "<div>\n",
       "<style scoped>\n",
       "    .dataframe tbody tr th:only-of-type {\n",
       "        vertical-align: middle;\n",
       "    }\n",
       "\n",
       "    .dataframe tbody tr th {\n",
       "        vertical-align: top;\n",
       "    }\n",
       "\n",
       "    .dataframe thead th {\n",
       "        text-align: right;\n",
       "    }\n",
       "</style>\n",
       "<table border=\"1\" class=\"dataframe\">\n",
       "  <thead>\n",
       "    <tr style=\"text-align: right;\">\n",
       "      <th></th>\n",
       "      <th>User_ID</th>\n",
       "      <th>Product_ID</th>\n",
       "      <th>Gender</th>\n",
       "      <th>Age</th>\n",
       "      <th>Occupation</th>\n",
       "      <th>City_Category</th>\n",
       "      <th>Stay_In_Current_City_Years</th>\n",
       "      <th>Marital_Status</th>\n",
       "      <th>Product_Category_1</th>\n",
       "      <th>Product_Category_2</th>\n",
       "      <th>Product_Category_3</th>\n",
       "      <th>Purchase</th>\n",
       "    </tr>\n",
       "  </thead>\n",
       "  <tbody>\n",
       "    <tr>\n",
       "      <th>0</th>\n",
       "      <td>1000001</td>\n",
       "      <td>P00069042</td>\n",
       "      <td>F</td>\n",
       "      <td>0-17</td>\n",
       "      <td>10</td>\n",
       "      <td>A</td>\n",
       "      <td>2</td>\n",
       "      <td>0</td>\n",
       "      <td>3</td>\n",
       "      <td>NaN</td>\n",
       "      <td>NaN</td>\n",
       "      <td>8370</td>\n",
       "    </tr>\n",
       "    <tr>\n",
       "      <th>1</th>\n",
       "      <td>1000001</td>\n",
       "      <td>P00248942</td>\n",
       "      <td>F</td>\n",
       "      <td>0-17</td>\n",
       "      <td>10</td>\n",
       "      <td>A</td>\n",
       "      <td>2</td>\n",
       "      <td>0</td>\n",
       "      <td>1</td>\n",
       "      <td>6.0</td>\n",
       "      <td>14.0</td>\n",
       "      <td>15200</td>\n",
       "    </tr>\n",
       "    <tr>\n",
       "      <th>2</th>\n",
       "      <td>1000001</td>\n",
       "      <td>P00087842</td>\n",
       "      <td>F</td>\n",
       "      <td>0-17</td>\n",
       "      <td>10</td>\n",
       "      <td>A</td>\n",
       "      <td>2</td>\n",
       "      <td>0</td>\n",
       "      <td>12</td>\n",
       "      <td>NaN</td>\n",
       "      <td>NaN</td>\n",
       "      <td>1422</td>\n",
       "    </tr>\n",
       "    <tr>\n",
       "      <th>3</th>\n",
       "      <td>1000001</td>\n",
       "      <td>P00085442</td>\n",
       "      <td>F</td>\n",
       "      <td>0-17</td>\n",
       "      <td>10</td>\n",
       "      <td>A</td>\n",
       "      <td>2</td>\n",
       "      <td>0</td>\n",
       "      <td>12</td>\n",
       "      <td>14.0</td>\n",
       "      <td>NaN</td>\n",
       "      <td>1057</td>\n",
       "    </tr>\n",
       "    <tr>\n",
       "      <th>4</th>\n",
       "      <td>1000002</td>\n",
       "      <td>P00285442</td>\n",
       "      <td>M</td>\n",
       "      <td>55+</td>\n",
       "      <td>16</td>\n",
       "      <td>C</td>\n",
       "      <td>4+</td>\n",
       "      <td>0</td>\n",
       "      <td>8</td>\n",
       "      <td>NaN</td>\n",
       "      <td>NaN</td>\n",
       "      <td>7969</td>\n",
       "    </tr>\n",
       "  </tbody>\n",
       "</table>\n",
       "</div>"
      ],
      "text/plain": [
       "   User_ID Product_ID Gender   Age  Occupation City_Category  \\\n",
       "0  1000001  P00069042      F  0-17          10             A   \n",
       "1  1000001  P00248942      F  0-17          10             A   \n",
       "2  1000001  P00087842      F  0-17          10             A   \n",
       "3  1000001  P00085442      F  0-17          10             A   \n",
       "4  1000002  P00285442      M   55+          16             C   \n",
       "\n",
       "  Stay_In_Current_City_Years  Marital_Status  Product_Category_1  \\\n",
       "0                          2               0                   3   \n",
       "1                          2               0                   1   \n",
       "2                          2               0                  12   \n",
       "3                          2               0                  12   \n",
       "4                         4+               0                   8   \n",
       "\n",
       "   Product_Category_2  Product_Category_3  Purchase  \n",
       "0                 NaN                 NaN      8370  \n",
       "1                 6.0                14.0     15200  \n",
       "2                 NaN                 NaN      1422  \n",
       "3                14.0                 NaN      1057  \n",
       "4                 NaN                 NaN      7969  "
      ]
     },
     "execution_count": 5,
     "metadata": {},
     "output_type": "execute_result"
    }
   ],
   "source": [
    "#5.Display first 5 rows\n",
    "train.head()"
   ]
  },
  {
   "cell_type": "code",
   "execution_count": 6,
   "id": "d6ad74a3",
   "metadata": {},
   "outputs": [
    {
     "data": {
      "text/html": [
       "<div>\n",
       "<style scoped>\n",
       "    .dataframe tbody tr th:only-of-type {\n",
       "        vertical-align: middle;\n",
       "    }\n",
       "\n",
       "    .dataframe tbody tr th {\n",
       "        vertical-align: top;\n",
       "    }\n",
       "\n",
       "    .dataframe thead th {\n",
       "        text-align: right;\n",
       "    }\n",
       "</style>\n",
       "<table border=\"1\" class=\"dataframe\">\n",
       "  <thead>\n",
       "    <tr style=\"text-align: right;\">\n",
       "      <th></th>\n",
       "      <th>User_ID</th>\n",
       "      <th>Product_ID</th>\n",
       "      <th>Gender</th>\n",
       "      <th>Age</th>\n",
       "      <th>Occupation</th>\n",
       "      <th>City_Category</th>\n",
       "      <th>Stay_In_Current_City_Years</th>\n",
       "      <th>Marital_Status</th>\n",
       "      <th>Product_Category_1</th>\n",
       "      <th>Product_Category_2</th>\n",
       "      <th>Product_Category_3</th>\n",
       "      <th>Purchase</th>\n",
       "    </tr>\n",
       "  </thead>\n",
       "  <tbody>\n",
       "    <tr>\n",
       "      <th>550063</th>\n",
       "      <td>1006033</td>\n",
       "      <td>P00372445</td>\n",
       "      <td>M</td>\n",
       "      <td>51-55</td>\n",
       "      <td>13</td>\n",
       "      <td>B</td>\n",
       "      <td>1</td>\n",
       "      <td>1</td>\n",
       "      <td>20</td>\n",
       "      <td>NaN</td>\n",
       "      <td>NaN</td>\n",
       "      <td>368</td>\n",
       "    </tr>\n",
       "    <tr>\n",
       "      <th>550064</th>\n",
       "      <td>1006035</td>\n",
       "      <td>P00375436</td>\n",
       "      <td>F</td>\n",
       "      <td>26-35</td>\n",
       "      <td>1</td>\n",
       "      <td>C</td>\n",
       "      <td>3</td>\n",
       "      <td>0</td>\n",
       "      <td>20</td>\n",
       "      <td>NaN</td>\n",
       "      <td>NaN</td>\n",
       "      <td>371</td>\n",
       "    </tr>\n",
       "    <tr>\n",
       "      <th>550065</th>\n",
       "      <td>1006036</td>\n",
       "      <td>P00375436</td>\n",
       "      <td>F</td>\n",
       "      <td>26-35</td>\n",
       "      <td>15</td>\n",
       "      <td>B</td>\n",
       "      <td>4+</td>\n",
       "      <td>1</td>\n",
       "      <td>20</td>\n",
       "      <td>NaN</td>\n",
       "      <td>NaN</td>\n",
       "      <td>137</td>\n",
       "    </tr>\n",
       "    <tr>\n",
       "      <th>550066</th>\n",
       "      <td>1006038</td>\n",
       "      <td>P00375436</td>\n",
       "      <td>F</td>\n",
       "      <td>55+</td>\n",
       "      <td>1</td>\n",
       "      <td>C</td>\n",
       "      <td>2</td>\n",
       "      <td>0</td>\n",
       "      <td>20</td>\n",
       "      <td>NaN</td>\n",
       "      <td>NaN</td>\n",
       "      <td>365</td>\n",
       "    </tr>\n",
       "    <tr>\n",
       "      <th>550067</th>\n",
       "      <td>1006039</td>\n",
       "      <td>P00371644</td>\n",
       "      <td>F</td>\n",
       "      <td>46-50</td>\n",
       "      <td>0</td>\n",
       "      <td>B</td>\n",
       "      <td>4+</td>\n",
       "      <td>1</td>\n",
       "      <td>20</td>\n",
       "      <td>NaN</td>\n",
       "      <td>NaN</td>\n",
       "      <td>490</td>\n",
       "    </tr>\n",
       "  </tbody>\n",
       "</table>\n",
       "</div>"
      ],
      "text/plain": [
       "        User_ID Product_ID Gender    Age  Occupation City_Category  \\\n",
       "550063  1006033  P00372445      M  51-55          13             B   \n",
       "550064  1006035  P00375436      F  26-35           1             C   \n",
       "550065  1006036  P00375436      F  26-35          15             B   \n",
       "550066  1006038  P00375436      F    55+           1             C   \n",
       "550067  1006039  P00371644      F  46-50           0             B   \n",
       "\n",
       "       Stay_In_Current_City_Years  Marital_Status  Product_Category_1  \\\n",
       "550063                          1               1                  20   \n",
       "550064                          3               0                  20   \n",
       "550065                         4+               1                  20   \n",
       "550066                          2               0                  20   \n",
       "550067                         4+               1                  20   \n",
       "\n",
       "        Product_Category_2  Product_Category_3  Purchase  \n",
       "550063                 NaN                 NaN       368  \n",
       "550064                 NaN                 NaN       371  \n",
       "550065                 NaN                 NaN       137  \n",
       "550066                 NaN                 NaN       365  \n",
       "550067                 NaN                 NaN       490  "
      ]
     },
     "execution_count": 6,
     "metadata": {},
     "output_type": "execute_result"
    }
   ],
   "source": [
    "#6.Display last 5 rows. \n",
    "train.tail()"
   ]
  },
  {
   "cell_type": "code",
   "execution_count": 7,
   "id": "9e06d524",
   "metadata": {
    "scrolled": false
   },
   "outputs": [
    {
     "data": {
      "text/html": [
       "<div>\n",
       "<style scoped>\n",
       "    .dataframe tbody tr th:only-of-type {\n",
       "        vertical-align: middle;\n",
       "    }\n",
       "\n",
       "    .dataframe tbody tr th {\n",
       "        vertical-align: top;\n",
       "    }\n",
       "\n",
       "    .dataframe thead th {\n",
       "        text-align: right;\n",
       "    }\n",
       "</style>\n",
       "<table border=\"1\" class=\"dataframe\">\n",
       "  <thead>\n",
       "    <tr style=\"text-align: right;\">\n",
       "      <th></th>\n",
       "      <th>User_ID</th>\n",
       "      <th>Product_ID</th>\n",
       "      <th>Gender</th>\n",
       "      <th>Age</th>\n",
       "      <th>Occupation</th>\n",
       "      <th>City_Category</th>\n",
       "      <th>Stay_In_Current_City_Years</th>\n",
       "      <th>Marital_Status</th>\n",
       "      <th>Product_Category_1</th>\n",
       "      <th>Product_Category_2</th>\n",
       "      <th>Product_Category_3</th>\n",
       "      <th>Purchase</th>\n",
       "    </tr>\n",
       "  </thead>\n",
       "  <tbody>\n",
       "    <tr>\n",
       "      <th>0</th>\n",
       "      <td>1000001</td>\n",
       "      <td>P00069042</td>\n",
       "      <td>F</td>\n",
       "      <td>0-17</td>\n",
       "      <td>10</td>\n",
       "      <td>A</td>\n",
       "      <td>2</td>\n",
       "      <td>0</td>\n",
       "      <td>3</td>\n",
       "      <td>NaN</td>\n",
       "      <td>NaN</td>\n",
       "      <td>8370</td>\n",
       "    </tr>\n",
       "    <tr>\n",
       "      <th>1</th>\n",
       "      <td>1000001</td>\n",
       "      <td>P00248942</td>\n",
       "      <td>F</td>\n",
       "      <td>0-17</td>\n",
       "      <td>10</td>\n",
       "      <td>A</td>\n",
       "      <td>2</td>\n",
       "      <td>0</td>\n",
       "      <td>1</td>\n",
       "      <td>6.0</td>\n",
       "      <td>14.0</td>\n",
       "      <td>15200</td>\n",
       "    </tr>\n",
       "    <tr>\n",
       "      <th>2</th>\n",
       "      <td>1000001</td>\n",
       "      <td>P00087842</td>\n",
       "      <td>F</td>\n",
       "      <td>0-17</td>\n",
       "      <td>10</td>\n",
       "      <td>A</td>\n",
       "      <td>2</td>\n",
       "      <td>0</td>\n",
       "      <td>12</td>\n",
       "      <td>NaN</td>\n",
       "      <td>NaN</td>\n",
       "      <td>1422</td>\n",
       "    </tr>\n",
       "    <tr>\n",
       "      <th>3</th>\n",
       "      <td>1000001</td>\n",
       "      <td>P00085442</td>\n",
       "      <td>F</td>\n",
       "      <td>0-17</td>\n",
       "      <td>10</td>\n",
       "      <td>A</td>\n",
       "      <td>2</td>\n",
       "      <td>0</td>\n",
       "      <td>12</td>\n",
       "      <td>14.0</td>\n",
       "      <td>NaN</td>\n",
       "      <td>1057</td>\n",
       "    </tr>\n",
       "    <tr>\n",
       "      <th>4</th>\n",
       "      <td>1000002</td>\n",
       "      <td>P00285442</td>\n",
       "      <td>M</td>\n",
       "      <td>55+</td>\n",
       "      <td>16</td>\n",
       "      <td>C</td>\n",
       "      <td>4+</td>\n",
       "      <td>0</td>\n",
       "      <td>8</td>\n",
       "      <td>NaN</td>\n",
       "      <td>NaN</td>\n",
       "      <td>7969</td>\n",
       "    </tr>\n",
       "    <tr>\n",
       "      <th>5</th>\n",
       "      <td>1000003</td>\n",
       "      <td>P00193542</td>\n",
       "      <td>M</td>\n",
       "      <td>26-35</td>\n",
       "      <td>15</td>\n",
       "      <td>A</td>\n",
       "      <td>3</td>\n",
       "      <td>0</td>\n",
       "      <td>1</td>\n",
       "      <td>2.0</td>\n",
       "      <td>NaN</td>\n",
       "      <td>15227</td>\n",
       "    </tr>\n",
       "    <tr>\n",
       "      <th>6</th>\n",
       "      <td>1000004</td>\n",
       "      <td>P00184942</td>\n",
       "      <td>M</td>\n",
       "      <td>46-50</td>\n",
       "      <td>7</td>\n",
       "      <td>B</td>\n",
       "      <td>2</td>\n",
       "      <td>1</td>\n",
       "      <td>1</td>\n",
       "      <td>8.0</td>\n",
       "      <td>17.0</td>\n",
       "      <td>19215</td>\n",
       "    </tr>\n",
       "    <tr>\n",
       "      <th>7</th>\n",
       "      <td>1000004</td>\n",
       "      <td>P00346142</td>\n",
       "      <td>M</td>\n",
       "      <td>46-50</td>\n",
       "      <td>7</td>\n",
       "      <td>B</td>\n",
       "      <td>2</td>\n",
       "      <td>1</td>\n",
       "      <td>1</td>\n",
       "      <td>15.0</td>\n",
       "      <td>NaN</td>\n",
       "      <td>15854</td>\n",
       "    </tr>\n",
       "  </tbody>\n",
       "</table>\n",
       "</div>"
      ],
      "text/plain": [
       "   User_ID Product_ID Gender    Age  Occupation City_Category  \\\n",
       "0  1000001  P00069042      F   0-17          10             A   \n",
       "1  1000001  P00248942      F   0-17          10             A   \n",
       "2  1000001  P00087842      F   0-17          10             A   \n",
       "3  1000001  P00085442      F   0-17          10             A   \n",
       "4  1000002  P00285442      M    55+          16             C   \n",
       "5  1000003  P00193542      M  26-35          15             A   \n",
       "6  1000004  P00184942      M  46-50           7             B   \n",
       "7  1000004  P00346142      M  46-50           7             B   \n",
       "\n",
       "  Stay_In_Current_City_Years  Marital_Status  Product_Category_1  \\\n",
       "0                          2               0                   3   \n",
       "1                          2               0                   1   \n",
       "2                          2               0                  12   \n",
       "3                          2               0                  12   \n",
       "4                         4+               0                   8   \n",
       "5                          3               0                   1   \n",
       "6                          2               1                   1   \n",
       "7                          2               1                   1   \n",
       "\n",
       "   Product_Category_2  Product_Category_3  Purchase  \n",
       "0                 NaN                 NaN      8370  \n",
       "1                 6.0                14.0     15200  \n",
       "2                 NaN                 NaN      1422  \n",
       "3                14.0                 NaN      1057  \n",
       "4                 NaN                 NaN      7969  \n",
       "5                 2.0                 NaN     15227  \n",
       "6                 8.0                17.0     19215  \n",
       "7                15.0                 NaN     15854  "
      ]
     },
     "execution_count": 7,
     "metadata": {},
     "output_type": "execute_result"
    }
   ],
   "source": [
    "#7.display the first n=8 rows from the dataset\n",
    "train.head(8)"
   ]
  },
  {
   "cell_type": "code",
   "execution_count": 8,
   "id": "8d3290ef",
   "metadata": {
    "scrolled": true
   },
   "outputs": [
    {
     "data": {
      "text/html": [
       "<div>\n",
       "<style scoped>\n",
       "    .dataframe tbody tr th:only-of-type {\n",
       "        vertical-align: middle;\n",
       "    }\n",
       "\n",
       "    .dataframe tbody tr th {\n",
       "        vertical-align: top;\n",
       "    }\n",
       "\n",
       "    .dataframe thead th {\n",
       "        text-align: right;\n",
       "    }\n",
       "</style>\n",
       "<table border=\"1\" class=\"dataframe\">\n",
       "  <thead>\n",
       "    <tr style=\"text-align: right;\">\n",
       "      <th></th>\n",
       "      <th>User_ID</th>\n",
       "      <th>Product_ID</th>\n",
       "      <th>Gender</th>\n",
       "      <th>Age</th>\n",
       "      <th>Occupation</th>\n",
       "      <th>City_Category</th>\n",
       "      <th>Stay_In_Current_City_Years</th>\n",
       "      <th>Marital_Status</th>\n",
       "      <th>Product_Category_1</th>\n",
       "      <th>Product_Category_2</th>\n",
       "      <th>Product_Category_3</th>\n",
       "      <th>Purchase</th>\n",
       "    </tr>\n",
       "  </thead>\n",
       "  <tbody>\n",
       "    <tr>\n",
       "      <th>550059</th>\n",
       "      <td>1006025</td>\n",
       "      <td>P00370853</td>\n",
       "      <td>F</td>\n",
       "      <td>26-35</td>\n",
       "      <td>1</td>\n",
       "      <td>B</td>\n",
       "      <td>1</td>\n",
       "      <td>0</td>\n",
       "      <td>19</td>\n",
       "      <td>NaN</td>\n",
       "      <td>NaN</td>\n",
       "      <td>48</td>\n",
       "    </tr>\n",
       "    <tr>\n",
       "      <th>550060</th>\n",
       "      <td>1006026</td>\n",
       "      <td>P00371644</td>\n",
       "      <td>M</td>\n",
       "      <td>36-45</td>\n",
       "      <td>6</td>\n",
       "      <td>C</td>\n",
       "      <td>1</td>\n",
       "      <td>1</td>\n",
       "      <td>20</td>\n",
       "      <td>NaN</td>\n",
       "      <td>NaN</td>\n",
       "      <td>494</td>\n",
       "    </tr>\n",
       "    <tr>\n",
       "      <th>550061</th>\n",
       "      <td>1006029</td>\n",
       "      <td>P00372445</td>\n",
       "      <td>F</td>\n",
       "      <td>26-35</td>\n",
       "      <td>1</td>\n",
       "      <td>C</td>\n",
       "      <td>1</td>\n",
       "      <td>1</td>\n",
       "      <td>20</td>\n",
       "      <td>NaN</td>\n",
       "      <td>NaN</td>\n",
       "      <td>599</td>\n",
       "    </tr>\n",
       "    <tr>\n",
       "      <th>550062</th>\n",
       "      <td>1006032</td>\n",
       "      <td>P00372445</td>\n",
       "      <td>M</td>\n",
       "      <td>46-50</td>\n",
       "      <td>7</td>\n",
       "      <td>A</td>\n",
       "      <td>3</td>\n",
       "      <td>0</td>\n",
       "      <td>20</td>\n",
       "      <td>NaN</td>\n",
       "      <td>NaN</td>\n",
       "      <td>473</td>\n",
       "    </tr>\n",
       "    <tr>\n",
       "      <th>550063</th>\n",
       "      <td>1006033</td>\n",
       "      <td>P00372445</td>\n",
       "      <td>M</td>\n",
       "      <td>51-55</td>\n",
       "      <td>13</td>\n",
       "      <td>B</td>\n",
       "      <td>1</td>\n",
       "      <td>1</td>\n",
       "      <td>20</td>\n",
       "      <td>NaN</td>\n",
       "      <td>NaN</td>\n",
       "      <td>368</td>\n",
       "    </tr>\n",
       "    <tr>\n",
       "      <th>550064</th>\n",
       "      <td>1006035</td>\n",
       "      <td>P00375436</td>\n",
       "      <td>F</td>\n",
       "      <td>26-35</td>\n",
       "      <td>1</td>\n",
       "      <td>C</td>\n",
       "      <td>3</td>\n",
       "      <td>0</td>\n",
       "      <td>20</td>\n",
       "      <td>NaN</td>\n",
       "      <td>NaN</td>\n",
       "      <td>371</td>\n",
       "    </tr>\n",
       "    <tr>\n",
       "      <th>550065</th>\n",
       "      <td>1006036</td>\n",
       "      <td>P00375436</td>\n",
       "      <td>F</td>\n",
       "      <td>26-35</td>\n",
       "      <td>15</td>\n",
       "      <td>B</td>\n",
       "      <td>4+</td>\n",
       "      <td>1</td>\n",
       "      <td>20</td>\n",
       "      <td>NaN</td>\n",
       "      <td>NaN</td>\n",
       "      <td>137</td>\n",
       "    </tr>\n",
       "    <tr>\n",
       "      <th>550066</th>\n",
       "      <td>1006038</td>\n",
       "      <td>P00375436</td>\n",
       "      <td>F</td>\n",
       "      <td>55+</td>\n",
       "      <td>1</td>\n",
       "      <td>C</td>\n",
       "      <td>2</td>\n",
       "      <td>0</td>\n",
       "      <td>20</td>\n",
       "      <td>NaN</td>\n",
       "      <td>NaN</td>\n",
       "      <td>365</td>\n",
       "    </tr>\n",
       "    <tr>\n",
       "      <th>550067</th>\n",
       "      <td>1006039</td>\n",
       "      <td>P00371644</td>\n",
       "      <td>F</td>\n",
       "      <td>46-50</td>\n",
       "      <td>0</td>\n",
       "      <td>B</td>\n",
       "      <td>4+</td>\n",
       "      <td>1</td>\n",
       "      <td>20</td>\n",
       "      <td>NaN</td>\n",
       "      <td>NaN</td>\n",
       "      <td>490</td>\n",
       "    </tr>\n",
       "  </tbody>\n",
       "</table>\n",
       "</div>"
      ],
      "text/plain": [
       "        User_ID Product_ID Gender    Age  Occupation City_Category  \\\n",
       "550059  1006025  P00370853      F  26-35           1             B   \n",
       "550060  1006026  P00371644      M  36-45           6             C   \n",
       "550061  1006029  P00372445      F  26-35           1             C   \n",
       "550062  1006032  P00372445      M  46-50           7             A   \n",
       "550063  1006033  P00372445      M  51-55          13             B   \n",
       "550064  1006035  P00375436      F  26-35           1             C   \n",
       "550065  1006036  P00375436      F  26-35          15             B   \n",
       "550066  1006038  P00375436      F    55+           1             C   \n",
       "550067  1006039  P00371644      F  46-50           0             B   \n",
       "\n",
       "       Stay_In_Current_City_Years  Marital_Status  Product_Category_1  \\\n",
       "550059                          1               0                  19   \n",
       "550060                          1               1                  20   \n",
       "550061                          1               1                  20   \n",
       "550062                          3               0                  20   \n",
       "550063                          1               1                  20   \n",
       "550064                          3               0                  20   \n",
       "550065                         4+               1                  20   \n",
       "550066                          2               0                  20   \n",
       "550067                         4+               1                  20   \n",
       "\n",
       "        Product_Category_2  Product_Category_3  Purchase  \n",
       "550059                 NaN                 NaN        48  \n",
       "550060                 NaN                 NaN       494  \n",
       "550061                 NaN                 NaN       599  \n",
       "550062                 NaN                 NaN       473  \n",
       "550063                 NaN                 NaN       368  \n",
       "550064                 NaN                 NaN       371  \n",
       "550065                 NaN                 NaN       137  \n",
       "550066                 NaN                 NaN       365  \n",
       "550067                 NaN                 NaN       490  "
      ]
     },
     "execution_count": 8,
     "metadata": {},
     "output_type": "execute_result"
    }
   ],
   "source": [
    "#8.display the last n=9 rows from the dataset\n",
    "train.tail(9)"
   ]
  },
  {
   "cell_type": "code",
   "execution_count": 9,
   "id": "c61eabfe",
   "metadata": {},
   "outputs": [
    {
     "name": "stdout",
     "output_type": "stream",
     "text": [
      "Index(['Product_ID', 'Gender', 'Age', 'Occupation', 'City_Category',\n",
      "       'Stay_In_Current_City_Years', 'Marital_Status', 'Product_Category_1',\n",
      "       'Product_Category_2', 'Product_Category_3', 'Purchase'],\n",
      "      dtype='object')\n"
     ]
    }
   ],
   "source": [
    "#9. Remove only one column and display remaining columns\n",
    "tremove=train.drop(['User_ID'],axis=1)\n",
    "print(tremove.columns)"
   ]
  },
  {
   "cell_type": "code",
   "execution_count": 10,
   "id": "489fe3c0",
   "metadata": {},
   "outputs": [],
   "source": [
    "#10. Remove columns that do not contribute to our analysis and display remaining columns and do not delete the columns if they are relevant\n",
    "#trem1=train.drop(['column x','column y'],axis=1)\n",
    "#print(trem1.columns)\n",
    "#above syntax is written to remove column x and column y which represents the columns that do not contribute to our analysis\n",
    "#since all the columns somehow contribute to the analysis ,hence it is preferred not to delete any column"
   ]
  },
  {
   "cell_type": "code",
   "execution_count": 11,
   "id": "c038bb3b",
   "metadata": {},
   "outputs": [
    {
     "data": {
      "text/plain": [
       "User_ID                            0\n",
       "Product_ID                         0\n",
       "Gender                             0\n",
       "Age                                0\n",
       "Occupation                         0\n",
       "City_Category                      0\n",
       "Stay_In_Current_City_Years         0\n",
       "Marital_Status                     0\n",
       "Product_Category_1                 0\n",
       "Product_Category_2            173638\n",
       "Product_Category_3            383247\n",
       "Purchase                           0\n",
       "dtype: int64"
      ]
     },
     "execution_count": 11,
     "metadata": {},
     "output_type": "execute_result"
    }
   ],
   "source": [
    "#11 find how many rows are having missing values in each column\n",
    "train.isnull().sum()"
   ]
  },
  {
   "cell_type": "code",
   "execution_count": 12,
   "id": "23bf42a3",
   "metadata": {},
   "outputs": [],
   "source": [
    "#12 keep only one row and remove all its other duplicates\n",
    "train = train.drop_duplicates (keep='first')\n",
    "#this will keep the first row and remove all the other duplicate rows"
   ]
  },
  {
   "cell_type": "code",
   "execution_count": 13,
   "id": "244b05fb",
   "metadata": {},
   "outputs": [
    {
     "name": "stdout",
     "output_type": "stream",
     "text": [
      "383247\n"
     ]
    }
   ],
   "source": [
    "#13. Display the no. of rows where the values in the ' Product_Category_3 ' column are missing.\n",
    "missing_values=train['Product_Category_3'].isnull().sum()\n",
    "print(missing_values)"
   ]
  },
  {
   "cell_type": "code",
   "execution_count": 14,
   "id": "3302a5a6",
   "metadata": {},
   "outputs": [],
   "source": [
    "#14.Drop the rows where ' Product_Category_2 ' column does not have any value.\n",
    "row_del=train.dropna(subset=['Product_Category_2'])"
   ]
  },
  {
   "cell_type": "code",
   "execution_count": 15,
   "id": "7ddced5b",
   "metadata": {},
   "outputs": [
    {
     "name": "stdout",
     "output_type": "stream",
     "text": [
      "414259\n"
     ]
    }
   ],
   "source": [
    "#15. Display the no. of males\n",
    "males=(train['Gender']=='M').sum()\n",
    "print(males)"
   ]
  },
  {
   "cell_type": "code",
   "execution_count": 16,
   "id": "8a21d384",
   "metadata": {},
   "outputs": [
    {
     "name": "stdout",
     "output_type": "stream",
     "text": [
      "135809\n"
     ]
    }
   ],
   "source": [
    "#16. Display the no. of females\n",
    "females=(train['Gender']=='F').sum()\n",
    "print(females)"
   ]
  },
  {
   "cell_type": "code",
   "execution_count": 17,
   "id": "dcd7bf21",
   "metadata": {},
   "outputs": [
    {
     "name": "stdout",
     "output_type": "stream",
     "text": [
      "          Age  Occupation\n",
      "0        0-17          10\n",
      "1        0-17          10\n",
      "2        0-17          10\n",
      "3        0-17          10\n",
      "14      51-55           9\n",
      "...       ...         ...\n",
      "550061  26-35           1\n",
      "550064  26-35           1\n",
      "550065  26-35          15\n",
      "550066    55+           1\n",
      "550067  46-50           0\n",
      "\n",
      "[135809 rows x 2 columns]\n"
     ]
    }
   ],
   "source": [
    "#17. Display the age and occupation of females\n",
    "display_female=(train[train['Gender']=='F'][['Age','Occupation']])\n",
    "print(display_female)"
   ]
  },
  {
   "cell_type": "code",
   "execution_count": 18,
   "id": "52412a36",
   "metadata": {},
   "outputs": [
    {
     "name": "stdout",
     "output_type": "stream",
     "text": [
      "          Age  Occupation\n",
      "4         55+          16\n",
      "5       26-35          15\n",
      "6       46-50           7\n",
      "7       46-50           7\n",
      "8       46-50           7\n",
      "...       ...         ...\n",
      "550057  26-35           0\n",
      "550058  26-35          12\n",
      "550060  36-45           6\n",
      "550062  46-50           7\n",
      "550063  51-55          13\n",
      "\n",
      "[414259 rows x 2 columns]\n"
     ]
    }
   ],
   "source": [
    "#18. Display the age and occupation of males.\n",
    "male_display=(train[train['Gender']=='M'][['Age','Occupation']])\n",
    "print(male_display)"
   ]
  },
  {
   "cell_type": "code",
   "execution_count": 19,
   "id": "a08ebbc9",
   "metadata": {},
   "outputs": [
    {
     "name": "stdout",
     "output_type": "stream",
     "text": [
      "        User_ID  Occupation  Marital_Status  Product_Category_1  \\\n",
      "0       1000001          10               0                   3   \n",
      "1       1000001          10               0                   1   \n",
      "2       1000001          10               0                  12   \n",
      "3       1000001          10               0                  12   \n",
      "4       1000002          16               0                   8   \n",
      "...         ...         ...             ...                 ...   \n",
      "550063  1006033          13               1                  20   \n",
      "550064  1006035           1               0                  20   \n",
      "550065  1006036          15               1                  20   \n",
      "550066  1006038           1               0                  20   \n",
      "550067  1006039           0               1                  20   \n",
      "\n",
      "        Product_Category_2  Product_Category_3  Purchase  \n",
      "0                      NaN                 NaN      8370  \n",
      "1                      6.0                14.0     15200  \n",
      "2                      NaN                 NaN      1422  \n",
      "3                     14.0                 NaN      1057  \n",
      "4                      NaN                 NaN      7969  \n",
      "...                    ...                 ...       ...  \n",
      "550063                 NaN                 NaN       368  \n",
      "550064                 NaN                 NaN       371  \n",
      "550065                 NaN                 NaN       137  \n",
      "550066                 NaN                 NaN       365  \n",
      "550067                 NaN                 NaN       490  \n",
      "\n",
      "[550068 rows x 7 columns]\n"
     ]
    }
   ],
   "source": [
    "#19.Display dataframe with only numeric datatypes.\n",
    "train1=train.select_dtypes(include=['float64','int64'])\n",
    "print(train1)"
   ]
  },
  {
   "cell_type": "code",
   "execution_count": 20,
   "id": "373df6ce",
   "metadata": {},
   "outputs": [
    {
     "name": "stdout",
     "output_type": "stream",
     "text": [
      "        User_ID Product_ID Gender    Age  Occupation City_Category  \\\n",
      "1       1000001  P00248942      F   0-17          10             A   \n",
      "6       1000004  P00184942      M  46-50           7             B   \n",
      "13      1000005  P00145042      M  26-35          20             A   \n",
      "14      1000006  P00231342      F  51-55           9             A   \n",
      "16      1000006   P0096642      F  51-55           9             A   \n",
      "...         ...        ...    ...    ...         ...           ...   \n",
      "545902  1006039  P00064042      F  46-50           0             B   \n",
      "545904  1006040  P00081142      M  26-35           6             B   \n",
      "545907  1006040  P00277642      M  26-35           6             B   \n",
      "545908  1006040  P00127642      M  26-35           6             B   \n",
      "545914  1006040  P00217442      M  26-35           6             B   \n",
      "\n",
      "       Stay_In_Current_City_Years  Marital_Status  Product_Category_1  \\\n",
      "1                               2               0                   1   \n",
      "6                               2               1                   1   \n",
      "13                              1               1                   1   \n",
      "14                              1               0                   5   \n",
      "16                              1               0                   2   \n",
      "...                           ...             ...                 ...   \n",
      "545902                         4+               1                   3   \n",
      "545904                          2               0                   6   \n",
      "545907                          2               0                   2   \n",
      "545908                          2               0                   1   \n",
      "545914                          2               0                   1   \n",
      "\n",
      "        Product_Category_2  Product_Category_3  Purchase  \n",
      "1                      6.0                14.0     15200  \n",
      "6                      8.0                17.0     19215  \n",
      "13                     2.0                 5.0     15665  \n",
      "14                     8.0                14.0      5378  \n",
      "16                     3.0                 4.0     13055  \n",
      "...                    ...                 ...       ...  \n",
      "545902                 4.0                12.0      8047  \n",
      "545904                 8.0                14.0     16493  \n",
      "545907                 3.0                10.0      3425  \n",
      "545908                 2.0                15.0     15694  \n",
      "545914                 2.0                11.0     11640  \n",
      "\n",
      "[166821 rows x 12 columns]\n"
     ]
    }
   ],
   "source": [
    "#20.delete missing values rows\n",
    "t=train.dropna()\n",
    "print(t) \n",
    "#to check if actually rows have been deleted,earlier there were (550068, 12) rows and columns but now there are \n",
    "#(166821, 12) rows and columns which hows that rows have been deleted'''"
   ]
  },
  {
   "cell_type": "code",
   "execution_count": 21,
   "id": "af9950ca",
   "metadata": {},
   "outputs": [
    {
     "name": "stdout",
     "output_type": "stream",
     "text": [
      "        User_ID Product_ID Gender    Age  Occupation City_Category  \\\n",
      "541620  1005397  P00228642      M  18-25           0             B   \n",
      "390395  1000048  P00111242      M  26-35           4             B   \n",
      "320931  1001426  P00274442      M  18-25          14             B   \n",
      "320934  1001427  P00228642      M  26-35          12             C   \n",
      "139863  1003610  P00343042      M  18-25           6             B   \n",
      "...         ...        ...    ...    ...         ...           ...   \n",
      "550063  1006033  P00372445      M  51-55          13             B   \n",
      "550064  1006035  P00375436      F  26-35           1             C   \n",
      "550065  1006036  P00375436      F  26-35          15             B   \n",
      "550066  1006038  P00375436      F    55+           1             C   \n",
      "550067  1006039  P00371644      F  46-50           0             B   \n",
      "\n",
      "       Stay_In_Current_City_Years  Marital_Status  Product_Category_1  \\\n",
      "541620                          2               1                   5   \n",
      "390395                          3               1                   1   \n",
      "320931                          3               0                   1   \n",
      "320934                          2               0                   5   \n",
      "139863                         4+               0                   5   \n",
      "...                           ...             ...                 ...   \n",
      "550063                          1               1                  20   \n",
      "550064                          3               0                  20   \n",
      "550065                         4+               1                  20   \n",
      "550066                          2               0                  20   \n",
      "550067                         4+               1                  20   \n",
      "\n",
      "        Product_Category_2  Product_Category_3  Purchase  \n",
      "541620                18.0                 NaN      6979  \n",
      "390395                18.0                 NaN     15277  \n",
      "320931                18.0                 NaN     15441  \n",
      "320934                18.0                 NaN      7189  \n",
      "139863                18.0                 NaN      5215  \n",
      "...                    ...                 ...       ...  \n",
      "550063                 NaN                 NaN       368  \n",
      "550064                 NaN                 NaN       371  \n",
      "550065                 NaN                 NaN       137  \n",
      "550066                 NaN                 NaN       365  \n",
      "550067                 NaN                 NaN       490  \n",
      "\n",
      "[550068 rows x 12 columns]\n"
     ]
    }
   ],
   "source": [
    "#21.sort the rows depending on a Product_Category_2, into ascending or descending order\n",
    "train_sort = train.sort_values(by='Product_Category_2',ascending=False) #descending order\n",
    "print(train_sort)"
   ]
  },
  {
   "cell_type": "code",
   "execution_count": 22,
   "id": "d47bec6b",
   "metadata": {},
   "outputs": [
    {
     "data": {
      "text/plain": [
       "User_ID                         1000001\n",
       "Product_ID                    P00069042\n",
       "Gender                                F\n",
       "Age                                0-17\n",
       "Occupation                           10\n",
       "City_Category                         A\n",
       "Stay_In_Current_City_Years            2\n",
       "Marital_Status                        0\n",
       "Product_Category_1                    3\n",
       "Product_Category_2                  NaN\n",
       "Product_Category_3                  NaN\n",
       "Purchase                           8370\n",
       "Name: 0, dtype: object"
      ]
     },
     "execution_count": 22,
     "metadata": {},
     "output_type": "execute_result"
    }
   ],
   "source": [
    "#22.retrieve 0th row\n",
    "train.iloc[0]"
   ]
  },
  {
   "cell_type": "code",
   "execution_count": 23,
   "id": "23b849bf",
   "metadata": {},
   "outputs": [
    {
     "data": {
      "text/html": [
       "<div>\n",
       "<style scoped>\n",
       "    .dataframe tbody tr th:only-of-type {\n",
       "        vertical-align: middle;\n",
       "    }\n",
       "\n",
       "    .dataframe tbody tr th {\n",
       "        vertical-align: top;\n",
       "    }\n",
       "\n",
       "    .dataframe thead th {\n",
       "        text-align: right;\n",
       "    }\n",
       "</style>\n",
       "<table border=\"1\" class=\"dataframe\">\n",
       "  <thead>\n",
       "    <tr style=\"text-align: right;\">\n",
       "      <th></th>\n",
       "      <th>User_ID</th>\n",
       "      <th>Product_ID</th>\n",
       "      <th>Gender</th>\n",
       "      <th>Age</th>\n",
       "      <th>Occupation</th>\n",
       "      <th>City_Category</th>\n",
       "      <th>Stay_In_Current_City_Years</th>\n",
       "      <th>Marital_Status</th>\n",
       "      <th>Product_Category_1</th>\n",
       "      <th>Product_Category_2</th>\n",
       "      <th>Product_Category_3</th>\n",
       "      <th>Purchase</th>\n",
       "    </tr>\n",
       "  </thead>\n",
       "  <tbody>\n",
       "    <tr>\n",
       "      <th>0</th>\n",
       "      <td>1000001</td>\n",
       "      <td>P00069042</td>\n",
       "      <td>F</td>\n",
       "      <td>0-17</td>\n",
       "      <td>10</td>\n",
       "      <td>A</td>\n",
       "      <td>2</td>\n",
       "      <td>0</td>\n",
       "      <td>3</td>\n",
       "      <td>NaN</td>\n",
       "      <td>NaN</td>\n",
       "      <td>8370</td>\n",
       "    </tr>\n",
       "    <tr>\n",
       "      <th>1</th>\n",
       "      <td>1000001</td>\n",
       "      <td>P00248942</td>\n",
       "      <td>F</td>\n",
       "      <td>0-17</td>\n",
       "      <td>10</td>\n",
       "      <td>A</td>\n",
       "      <td>2</td>\n",
       "      <td>0</td>\n",
       "      <td>1</td>\n",
       "      <td>6.0</td>\n",
       "      <td>14.0</td>\n",
       "      <td>15200</td>\n",
       "    </tr>\n",
       "    <tr>\n",
       "      <th>2</th>\n",
       "      <td>1000001</td>\n",
       "      <td>P00087842</td>\n",
       "      <td>F</td>\n",
       "      <td>0-17</td>\n",
       "      <td>10</td>\n",
       "      <td>A</td>\n",
       "      <td>2</td>\n",
       "      <td>0</td>\n",
       "      <td>12</td>\n",
       "      <td>NaN</td>\n",
       "      <td>NaN</td>\n",
       "      <td>1422</td>\n",
       "    </tr>\n",
       "    <tr>\n",
       "      <th>3</th>\n",
       "      <td>1000001</td>\n",
       "      <td>P00085442</td>\n",
       "      <td>F</td>\n",
       "      <td>0-17</td>\n",
       "      <td>10</td>\n",
       "      <td>A</td>\n",
       "      <td>2</td>\n",
       "      <td>0</td>\n",
       "      <td>12</td>\n",
       "      <td>14.0</td>\n",
       "      <td>NaN</td>\n",
       "      <td>1057</td>\n",
       "    </tr>\n",
       "    <tr>\n",
       "      <th>4</th>\n",
       "      <td>1000002</td>\n",
       "      <td>P00285442</td>\n",
       "      <td>M</td>\n",
       "      <td>55+</td>\n",
       "      <td>16</td>\n",
       "      <td>C</td>\n",
       "      <td>4+</td>\n",
       "      <td>0</td>\n",
       "      <td>8</td>\n",
       "      <td>NaN</td>\n",
       "      <td>NaN</td>\n",
       "      <td>7969</td>\n",
       "    </tr>\n",
       "    <tr>\n",
       "      <th>5</th>\n",
       "      <td>1000003</td>\n",
       "      <td>P00193542</td>\n",
       "      <td>M</td>\n",
       "      <td>26-35</td>\n",
       "      <td>15</td>\n",
       "      <td>A</td>\n",
       "      <td>3</td>\n",
       "      <td>0</td>\n",
       "      <td>1</td>\n",
       "      <td>2.0</td>\n",
       "      <td>NaN</td>\n",
       "      <td>15227</td>\n",
       "    </tr>\n",
       "  </tbody>\n",
       "</table>\n",
       "</div>"
      ],
      "text/plain": [
       "   User_ID Product_ID Gender    Age  Occupation City_Category  \\\n",
       "0  1000001  P00069042      F   0-17          10             A   \n",
       "1  1000001  P00248942      F   0-17          10             A   \n",
       "2  1000001  P00087842      F   0-17          10             A   \n",
       "3  1000001  P00085442      F   0-17          10             A   \n",
       "4  1000002  P00285442      M    55+          16             C   \n",
       "5  1000003  P00193542      M  26-35          15             A   \n",
       "\n",
       "  Stay_In_Current_City_Years  Marital_Status  Product_Category_1  \\\n",
       "0                          2               0                   3   \n",
       "1                          2               0                   1   \n",
       "2                          2               0                  12   \n",
       "3                          2               0                  12   \n",
       "4                         4+               0                   8   \n",
       "5                          3               0                   1   \n",
       "\n",
       "   Product_Category_2  Product_Category_3  Purchase  \n",
       "0                 NaN                 NaN      8370  \n",
       "1                 6.0                14.0     15200  \n",
       "2                 NaN                 NaN      1422  \n",
       "3                14.0                 NaN      1057  \n",
       "4                 NaN                 NaN      7969  \n",
       "5                 2.0                 NaN     15227  "
      ]
     },
     "execution_count": 23,
     "metadata": {},
     "output_type": "execute_result"
    }
   ],
   "source": [
    "#23.retrieve 0-5 rows\n",
    "train.iloc[0:6]"
   ]
  },
  {
   "cell_type": "code",
   "execution_count": 24,
   "id": "6629e037",
   "metadata": {},
   "outputs": [
    {
     "data": {
      "text/plain": [
       "0         1000001\n",
       "1         1000001\n",
       "2         1000001\n",
       "3         1000001\n",
       "4         1000002\n",
       "           ...   \n",
       "550063    1006033\n",
       "550064    1006035\n",
       "550065    1006036\n",
       "550066    1006038\n",
       "550067    1006039\n",
       "Name: User_ID, Length: 550068, dtype: int64"
      ]
     },
     "execution_count": 24,
     "metadata": {},
     "output_type": "execute_result"
    }
   ],
   "source": [
    "#24.retrieve all rows and 0th columns\n",
    "train.iloc[:,0]"
   ]
  },
  {
   "cell_type": "code",
   "execution_count": 25,
   "id": "6dd86382",
   "metadata": {},
   "outputs": [
    {
     "data": {
      "text/html": [
       "<div>\n",
       "<style scoped>\n",
       "    .dataframe tbody tr th:only-of-type {\n",
       "        vertical-align: middle;\n",
       "    }\n",
       "\n",
       "    .dataframe tbody tr th {\n",
       "        vertical-align: top;\n",
       "    }\n",
       "\n",
       "    .dataframe thead th {\n",
       "        text-align: right;\n",
       "    }\n",
       "</style>\n",
       "<table border=\"1\" class=\"dataframe\">\n",
       "  <thead>\n",
       "    <tr style=\"text-align: right;\">\n",
       "      <th></th>\n",
       "      <th>User_ID</th>\n",
       "      <th>Product_ID</th>\n",
       "      <th>Gender</th>\n",
       "      <th>Age</th>\n",
       "      <th>Occupation</th>\n",
       "    </tr>\n",
       "  </thead>\n",
       "  <tbody>\n",
       "    <tr>\n",
       "      <th>0</th>\n",
       "      <td>1000001</td>\n",
       "      <td>P00069042</td>\n",
       "      <td>F</td>\n",
       "      <td>0-17</td>\n",
       "      <td>10</td>\n",
       "    </tr>\n",
       "    <tr>\n",
       "      <th>1</th>\n",
       "      <td>1000001</td>\n",
       "      <td>P00248942</td>\n",
       "      <td>F</td>\n",
       "      <td>0-17</td>\n",
       "      <td>10</td>\n",
       "    </tr>\n",
       "    <tr>\n",
       "      <th>2</th>\n",
       "      <td>1000001</td>\n",
       "      <td>P00087842</td>\n",
       "      <td>F</td>\n",
       "      <td>0-17</td>\n",
       "      <td>10</td>\n",
       "    </tr>\n",
       "    <tr>\n",
       "      <th>3</th>\n",
       "      <td>1000001</td>\n",
       "      <td>P00085442</td>\n",
       "      <td>F</td>\n",
       "      <td>0-17</td>\n",
       "      <td>10</td>\n",
       "    </tr>\n",
       "    <tr>\n",
       "      <th>4</th>\n",
       "      <td>1000002</td>\n",
       "      <td>P00285442</td>\n",
       "      <td>M</td>\n",
       "      <td>55+</td>\n",
       "      <td>16</td>\n",
       "    </tr>\n",
       "    <tr>\n",
       "      <th>...</th>\n",
       "      <td>...</td>\n",
       "      <td>...</td>\n",
       "      <td>...</td>\n",
       "      <td>...</td>\n",
       "      <td>...</td>\n",
       "    </tr>\n",
       "    <tr>\n",
       "      <th>550063</th>\n",
       "      <td>1006033</td>\n",
       "      <td>P00372445</td>\n",
       "      <td>M</td>\n",
       "      <td>51-55</td>\n",
       "      <td>13</td>\n",
       "    </tr>\n",
       "    <tr>\n",
       "      <th>550064</th>\n",
       "      <td>1006035</td>\n",
       "      <td>P00375436</td>\n",
       "      <td>F</td>\n",
       "      <td>26-35</td>\n",
       "      <td>1</td>\n",
       "    </tr>\n",
       "    <tr>\n",
       "      <th>550065</th>\n",
       "      <td>1006036</td>\n",
       "      <td>P00375436</td>\n",
       "      <td>F</td>\n",
       "      <td>26-35</td>\n",
       "      <td>15</td>\n",
       "    </tr>\n",
       "    <tr>\n",
       "      <th>550066</th>\n",
       "      <td>1006038</td>\n",
       "      <td>P00375436</td>\n",
       "      <td>F</td>\n",
       "      <td>55+</td>\n",
       "      <td>1</td>\n",
       "    </tr>\n",
       "    <tr>\n",
       "      <th>550067</th>\n",
       "      <td>1006039</td>\n",
       "      <td>P00371644</td>\n",
       "      <td>F</td>\n",
       "      <td>46-50</td>\n",
       "      <td>0</td>\n",
       "    </tr>\n",
       "  </tbody>\n",
       "</table>\n",
       "<p>550068 rows × 5 columns</p>\n",
       "</div>"
      ],
      "text/plain": [
       "        User_ID Product_ID Gender    Age  Occupation\n",
       "0       1000001  P00069042      F   0-17          10\n",
       "1       1000001  P00248942      F   0-17          10\n",
       "2       1000001  P00087842      F   0-17          10\n",
       "3       1000001  P00085442      F   0-17          10\n",
       "4       1000002  P00285442      M    55+          16\n",
       "...         ...        ...    ...    ...         ...\n",
       "550063  1006033  P00372445      M  51-55          13\n",
       "550064  1006035  P00375436      F  26-35           1\n",
       "550065  1006036  P00375436      F  26-35          15\n",
       "550066  1006038  P00375436      F    55+           1\n",
       "550067  1006039  P00371644      F  46-50           0\n",
       "\n",
       "[550068 rows x 5 columns]"
      ]
     },
     "execution_count": 25,
     "metadata": {},
     "output_type": "execute_result"
    }
   ],
   "source": [
    "#25. retrieve all rows with cols from 0 to 4th\n",
    "train.iloc[:,0:5]"
   ]
  },
  {
   "cell_type": "code",
   "execution_count": 26,
   "id": "e4dfbb34",
   "metadata": {},
   "outputs": [
    {
     "data": {
      "text/html": [
       "<div>\n",
       "<style scoped>\n",
       "    .dataframe tbody tr th:only-of-type {\n",
       "        vertical-align: middle;\n",
       "    }\n",
       "\n",
       "    .dataframe tbody tr th {\n",
       "        vertical-align: top;\n",
       "    }\n",
       "\n",
       "    .dataframe thead th {\n",
       "        text-align: right;\n",
       "    }\n",
       "</style>\n",
       "<table border=\"1\" class=\"dataframe\">\n",
       "  <thead>\n",
       "    <tr style=\"text-align: right;\">\n",
       "      <th></th>\n",
       "      <th>Product_ID</th>\n",
       "      <th>Age</th>\n",
       "      <th>City_Category</th>\n",
       "    </tr>\n",
       "  </thead>\n",
       "  <tbody>\n",
       "    <tr>\n",
       "      <th>0</th>\n",
       "      <td>P00069042</td>\n",
       "      <td>0-17</td>\n",
       "      <td>A</td>\n",
       "    </tr>\n",
       "    <tr>\n",
       "      <th>2</th>\n",
       "      <td>P00087842</td>\n",
       "      <td>0-17</td>\n",
       "      <td>A</td>\n",
       "    </tr>\n",
       "    <tr>\n",
       "      <th>4</th>\n",
       "      <td>P00285442</td>\n",
       "      <td>55+</td>\n",
       "      <td>C</td>\n",
       "    </tr>\n",
       "  </tbody>\n",
       "</table>\n",
       "</div>"
      ],
      "text/plain": [
       "  Product_ID   Age City_Category\n",
       "0  P00069042  0-17             A\n",
       "2  P00087842  0-17             A\n",
       "4  P00285442   55+             C"
      ]
     },
     "execution_count": 26,
     "metadata": {},
     "output_type": "execute_result"
    }
   ],
   "source": [
    "#26.select 0,2,4 rows with 1,3,5 cols\n",
    "train.iloc[[0,2,4], [1,3,5]]"
   ]
  },
  {
   "cell_type": "code",
   "execution_count": 27,
   "id": "3c8bce73",
   "metadata": {},
   "outputs": [
    {
     "name": "stdout",
     "output_type": "stream",
     "text": [
      "0     3\n",
      "1     1\n",
      "2    12\n",
      "3    12\n",
      "4     8\n",
      "Name: Product_Category_1, dtype: int64\n"
     ]
    }
   ],
   "source": [
    "#27. retrieve the first 5 rows from a particular column, say 8th column \n",
    "x=train.iloc[0:5,8]\n",
    "print(x)"
   ]
  },
  {
   "cell_type": "code",
   "execution_count": 28,
   "id": "f7f0d97a",
   "metadata": {},
   "outputs": [
    {
     "name": "stdout",
     "output_type": "stream",
     "text": [
      "        User_ID  Occupation  Marital_Status  Product_Category_1  \\\n",
      "0       1000001          10               0                   3   \n",
      "1       1000001          10               0                   1   \n",
      "2       1000001          10               0                  12   \n",
      "3       1000001          10               0                  12   \n",
      "4       1000002          16               0                   8   \n",
      "...         ...         ...             ...                 ...   \n",
      "550063  1006033          13               1                  20   \n",
      "550064  1006035           1               0                  20   \n",
      "550065  1006036          15               1                  20   \n",
      "550066  1006038           1               0                  20   \n",
      "550067  1006039           0               1                  20   \n",
      "\n",
      "        Product_Category_2  Product_Category_3  Purchase  \n",
      "0                      NaN                 NaN      8370  \n",
      "1                      6.0                14.0     15200  \n",
      "2                      NaN                 NaN      1422  \n",
      "3                     14.0                 NaN      1057  \n",
      "4                      NaN                 NaN      7969  \n",
      "...                    ...                 ...       ...  \n",
      "550063                 NaN                 NaN       368  \n",
      "550064                 NaN                 NaN       371  \n",
      "550065                 NaN                 NaN       137  \n",
      "550066                 NaN                 NaN       365  \n",
      "550067                 NaN                 NaN       490  \n",
      "\n",
      "[550068 rows x 7 columns]\n"
     ]
    }
   ],
   "source": [
    "#28. Instead of writing all the column names, we can pass only the required numerical datatypes\n",
    "train1=train.select_dtypes(include=['float64','int64'])\n",
    "print(train1)\n",
    "#It means we want to retrieve only those columns whose datatypes are float64' and int64"
   ]
  },
  {
   "cell_type": "code",
   "execution_count": 29,
   "id": "a4870660",
   "metadata": {},
   "outputs": [
    {
     "name": "stdout",
     "output_type": "stream",
     "text": [
      "       Product_ID Gender    Age City_Category Stay_In_Current_City_Years\n",
      "0       P00069042      F   0-17             A                          2\n",
      "1       P00248942      F   0-17             A                          2\n",
      "2       P00087842      F   0-17             A                          2\n",
      "3       P00085442      F   0-17             A                          2\n",
      "4       P00285442      M    55+             C                         4+\n",
      "...           ...    ...    ...           ...                        ...\n",
      "550063  P00372445      M  51-55             B                          1\n",
      "550064  P00375436      F  26-35             C                          3\n",
      "550065  P00375436      F  26-35             B                         4+\n",
      "550066  P00375436      F    55+             C                          2\n",
      "550067  P00371644      F  46-50             B                         4+\n",
      "\n",
      "[550068 rows x 5 columns]\n"
     ]
    }
   ],
   "source": [
    "#29.Instead of writing all the column names, we can pass only the required attribute datatypes\n",
    "train1=train.select_dtypes(include='object')\n",
    "print(train1)"
   ]
  },
  {
   "cell_type": "code",
   "execution_count": 30,
   "id": "a9ec5703",
   "metadata": {},
   "outputs": [
    {
     "data": {
      "text/html": [
       "<div>\n",
       "<style scoped>\n",
       "    .dataframe tbody tr th:only-of-type {\n",
       "        vertical-align: middle;\n",
       "    }\n",
       "\n",
       "    .dataframe tbody tr th {\n",
       "        vertical-align: top;\n",
       "    }\n",
       "\n",
       "    .dataframe thead th {\n",
       "        text-align: right;\n",
       "    }\n",
       "</style>\n",
       "<table border=\"1\" class=\"dataframe\">\n",
       "  <thead>\n",
       "    <tr style=\"text-align: right;\">\n",
       "      <th></th>\n",
       "      <th>User_ID</th>\n",
       "      <th>Occupation</th>\n",
       "      <th>Marital_Status</th>\n",
       "      <th>Product_Category_1</th>\n",
       "      <th>Product_Category_2</th>\n",
       "      <th>Product_Category_3</th>\n",
       "      <th>Purchase</th>\n",
       "    </tr>\n",
       "  </thead>\n",
       "  <tbody>\n",
       "    <tr>\n",
       "      <th>count</th>\n",
       "      <td>5.500680e+05</td>\n",
       "      <td>550068.000000</td>\n",
       "      <td>550068.000000</td>\n",
       "      <td>550068.000000</td>\n",
       "      <td>376430.000000</td>\n",
       "      <td>166821.000000</td>\n",
       "      <td>550068.000000</td>\n",
       "    </tr>\n",
       "    <tr>\n",
       "      <th>mean</th>\n",
       "      <td>1.003029e+06</td>\n",
       "      <td>8.076707</td>\n",
       "      <td>0.409653</td>\n",
       "      <td>5.404270</td>\n",
       "      <td>9.842329</td>\n",
       "      <td>12.668243</td>\n",
       "      <td>9263.968713</td>\n",
       "    </tr>\n",
       "    <tr>\n",
       "      <th>std</th>\n",
       "      <td>1.727592e+03</td>\n",
       "      <td>6.522660</td>\n",
       "      <td>0.491770</td>\n",
       "      <td>3.936211</td>\n",
       "      <td>5.086590</td>\n",
       "      <td>4.125338</td>\n",
       "      <td>5023.065394</td>\n",
       "    </tr>\n",
       "    <tr>\n",
       "      <th>min</th>\n",
       "      <td>1.000001e+06</td>\n",
       "      <td>0.000000</td>\n",
       "      <td>0.000000</td>\n",
       "      <td>1.000000</td>\n",
       "      <td>2.000000</td>\n",
       "      <td>3.000000</td>\n",
       "      <td>12.000000</td>\n",
       "    </tr>\n",
       "    <tr>\n",
       "      <th>25%</th>\n",
       "      <td>1.001516e+06</td>\n",
       "      <td>2.000000</td>\n",
       "      <td>0.000000</td>\n",
       "      <td>1.000000</td>\n",
       "      <td>5.000000</td>\n",
       "      <td>9.000000</td>\n",
       "      <td>5823.000000</td>\n",
       "    </tr>\n",
       "    <tr>\n",
       "      <th>50%</th>\n",
       "      <td>1.003077e+06</td>\n",
       "      <td>7.000000</td>\n",
       "      <td>0.000000</td>\n",
       "      <td>5.000000</td>\n",
       "      <td>9.000000</td>\n",
       "      <td>14.000000</td>\n",
       "      <td>8047.000000</td>\n",
       "    </tr>\n",
       "    <tr>\n",
       "      <th>75%</th>\n",
       "      <td>1.004478e+06</td>\n",
       "      <td>14.000000</td>\n",
       "      <td>1.000000</td>\n",
       "      <td>8.000000</td>\n",
       "      <td>15.000000</td>\n",
       "      <td>16.000000</td>\n",
       "      <td>12054.000000</td>\n",
       "    </tr>\n",
       "    <tr>\n",
       "      <th>max</th>\n",
       "      <td>1.006040e+06</td>\n",
       "      <td>20.000000</td>\n",
       "      <td>1.000000</td>\n",
       "      <td>20.000000</td>\n",
       "      <td>18.000000</td>\n",
       "      <td>18.000000</td>\n",
       "      <td>23961.000000</td>\n",
       "    </tr>\n",
       "  </tbody>\n",
       "</table>\n",
       "</div>"
      ],
      "text/plain": [
       "            User_ID     Occupation  Marital_Status  Product_Category_1  \\\n",
       "count  5.500680e+05  550068.000000   550068.000000       550068.000000   \n",
       "mean   1.003029e+06       8.076707        0.409653            5.404270   \n",
       "std    1.727592e+03       6.522660        0.491770            3.936211   \n",
       "min    1.000001e+06       0.000000        0.000000            1.000000   \n",
       "25%    1.001516e+06       2.000000        0.000000            1.000000   \n",
       "50%    1.003077e+06       7.000000        0.000000            5.000000   \n",
       "75%    1.004478e+06      14.000000        1.000000            8.000000   \n",
       "max    1.006040e+06      20.000000        1.000000           20.000000   \n",
       "\n",
       "       Product_Category_2  Product_Category_3       Purchase  \n",
       "count       376430.000000       166821.000000  550068.000000  \n",
       "mean             9.842329           12.668243    9263.968713  \n",
       "std              5.086590            4.125338    5023.065394  \n",
       "min              2.000000            3.000000      12.000000  \n",
       "25%              5.000000            9.000000    5823.000000  \n",
       "50%              9.000000           14.000000    8047.000000  \n",
       "75%             15.000000           16.000000   12054.000000  \n",
       "max             18.000000           18.000000   23961.000000  "
      ]
     },
     "execution_count": 30,
     "metadata": {},
     "output_type": "execute_result"
    }
   ],
   "source": [
    "#30.Find count, mean, SD, min,max, Q1, Q2,Q3, using describe(), mode\n",
    "'''The describe) method is used for obtaining some statistical data like percentile, mean\n",
    "and standard deviation of the numerical values in the columns. It gives the statistical\n",
    "information for numeric type of columns only. '''\n",
    "\n",
    "train.describe()\n"
   ]
  },
  {
   "cell_type": "code",
   "execution_count": 31,
   "id": "4c80d758",
   "metadata": {},
   "outputs": [
    {
     "name": "stdout",
     "output_type": "stream",
     "text": [
      "   User_ID Product_ID Gender    Age  Occupation City_Category  \\\n",
      "0  1001680  P00265242      M  26-35           4             B   \n",
      "\n",
      "  Stay_In_Current_City_Years  Marital_Status  Product_Category_1  \\\n",
      "0                          1               0                   5   \n",
      "\n",
      "   Product_Category_2  Product_Category_3  Purchase  \n",
      "0                 8.0                16.0      7011  \n"
     ]
    }
   ],
   "source": [
    "a=train.mode()\n",
    "print(a)\n",
    "#used to find out the highest frequency in each column"
   ]
  },
  {
   "cell_type": "code",
   "execution_count": 32,
   "id": "9b366b4c",
   "metadata": {},
   "outputs": [
    {
     "name": "stdout",
     "output_type": "stream",
     "text": [
      "the kurtosis is:\n",
      "User_ID              -1.195501\n",
      "Occupation           -1.216114\n",
      "Marital_Status       -1.864997\n",
      "Product_Category_1    1.234757\n",
      "Product_Category_2   -1.432267\n",
      "Product_Category_3   -0.808066\n",
      "Purchase             -0.338378\n",
      "dtype: float64\n",
      "the skewness is:\n",
      "User_ID               0.003066\n",
      "Occupation            0.400140\n",
      "Marital_Status        0.367437\n",
      "Product_Category_1    1.025735\n",
      "Product_Category_2   -0.162758\n",
      "Product_Category_3   -0.765446\n",
      "Purchase              0.600140\n",
      "dtype: float64\n"
     ]
    }
   ],
   "source": [
    "#31.Calculate skewness  and kurtosis for all numeric columns (syntax===‘data.skew()’) and (‘data.kurtosis()’) and\n",
    "#write conclusion about the normality of data for each variable\n",
    "numeric1=train.select_dtypes(include=['int64','float64'])\n",
    "print (\"the kurtosis is:\")\n",
    "print(numeric1.kurtosis())\n",
    "#the data in the distribution is platykurtic i.e. <0(Product_Category_2 ,Product_Category_3 ) while rest are LeptoKurtic i.e.>0\n",
    "\n",
    "#Data follows normal distribution since SKEWNESS<|2| AND KURTOSIS < |7|\n",
    "\n",
    "print(\"the skewness is:\")\n",
    "print(numeric1.skew())\n",
    "\n",
    "#the distribution for User_ID is negetively skewed since skewness i.e. -0.011563 < 0\n",
    "#the distribution for Occupation is positively skewed since skewness i.e. 0.359455 > 0\n",
    "#the distribution for Marital_Status is positively skewed since skewness i.e. 0.396200 > 0\n",
    "#the distribution for Product_Category_1 is positively skewed since skewness i.e. 1.640471 > 0\n",
    "#the distribution for Product_Category_2 is positively skewed since skewness i.e. 0.586213 > 0\n",
    "#the distribution for Product_Category_3 is negetively skewed since skewness i.e. -0.765446 < 0\n",
    "#the distribution for Purchase is negetively skewed since skewness i.e.-0.084588 < 0\n"
   ]
  },
  {
   "cell_type": "code",
   "execution_count": 33,
   "id": "a5f55c94",
   "metadata": {},
   "outputs": [
    {
     "data": {
      "text/html": [
       "<div>\n",
       "<style scoped>\n",
       "    .dataframe tbody tr th:only-of-type {\n",
       "        vertical-align: middle;\n",
       "    }\n",
       "\n",
       "    .dataframe tbody tr th {\n",
       "        vertical-align: top;\n",
       "    }\n",
       "\n",
       "    .dataframe thead th {\n",
       "        text-align: right;\n",
       "    }\n",
       "</style>\n",
       "<table border=\"1\" class=\"dataframe\">\n",
       "  <thead>\n",
       "    <tr style=\"text-align: right;\">\n",
       "      <th></th>\n",
       "      <th>User_ID</th>\n",
       "      <th>Occupation</th>\n",
       "      <th>Marital_Status</th>\n",
       "      <th>Product_Category_1</th>\n",
       "      <th>Product_Category_2</th>\n",
       "      <th>Product_Category_3</th>\n",
       "      <th>Purchase</th>\n",
       "    </tr>\n",
       "  </thead>\n",
       "  <tbody>\n",
       "    <tr>\n",
       "      <th>User_ID</th>\n",
       "      <td>1.000000</td>\n",
       "      <td>-0.023971</td>\n",
       "      <td>0.020443</td>\n",
       "      <td>0.003825</td>\n",
       "      <td>0.001529</td>\n",
       "      <td>0.003419</td>\n",
       "      <td>0.004716</td>\n",
       "    </tr>\n",
       "    <tr>\n",
       "      <th>Occupation</th>\n",
       "      <td>-0.023971</td>\n",
       "      <td>1.000000</td>\n",
       "      <td>0.024280</td>\n",
       "      <td>-0.007618</td>\n",
       "      <td>-0.000384</td>\n",
       "      <td>0.013263</td>\n",
       "      <td>0.020833</td>\n",
       "    </tr>\n",
       "    <tr>\n",
       "      <th>Marital_Status</th>\n",
       "      <td>0.020443</td>\n",
       "      <td>0.024280</td>\n",
       "      <td>1.000000</td>\n",
       "      <td>0.019888</td>\n",
       "      <td>0.015138</td>\n",
       "      <td>0.019473</td>\n",
       "      <td>-0.000463</td>\n",
       "    </tr>\n",
       "    <tr>\n",
       "      <th>Product_Category_1</th>\n",
       "      <td>0.003825</td>\n",
       "      <td>-0.007618</td>\n",
       "      <td>0.019888</td>\n",
       "      <td>1.000000</td>\n",
       "      <td>0.540583</td>\n",
       "      <td>0.229678</td>\n",
       "      <td>-0.343703</td>\n",
       "    </tr>\n",
       "    <tr>\n",
       "      <th>Product_Category_2</th>\n",
       "      <td>0.001529</td>\n",
       "      <td>-0.000384</td>\n",
       "      <td>0.015138</td>\n",
       "      <td>0.540583</td>\n",
       "      <td>1.000000</td>\n",
       "      <td>0.543649</td>\n",
       "      <td>-0.209918</td>\n",
       "    </tr>\n",
       "    <tr>\n",
       "      <th>Product_Category_3</th>\n",
       "      <td>0.003419</td>\n",
       "      <td>0.013263</td>\n",
       "      <td>0.019473</td>\n",
       "      <td>0.229678</td>\n",
       "      <td>0.543649</td>\n",
       "      <td>1.000000</td>\n",
       "      <td>-0.022006</td>\n",
       "    </tr>\n",
       "    <tr>\n",
       "      <th>Purchase</th>\n",
       "      <td>0.004716</td>\n",
       "      <td>0.020833</td>\n",
       "      <td>-0.000463</td>\n",
       "      <td>-0.343703</td>\n",
       "      <td>-0.209918</td>\n",
       "      <td>-0.022006</td>\n",
       "      <td>1.000000</td>\n",
       "    </tr>\n",
       "  </tbody>\n",
       "</table>\n",
       "</div>"
      ],
      "text/plain": [
       "                     User_ID  Occupation  Marital_Status  Product_Category_1  \\\n",
       "User_ID             1.000000   -0.023971        0.020443            0.003825   \n",
       "Occupation         -0.023971    1.000000        0.024280           -0.007618   \n",
       "Marital_Status      0.020443    0.024280        1.000000            0.019888   \n",
       "Product_Category_1  0.003825   -0.007618        0.019888            1.000000   \n",
       "Product_Category_2  0.001529   -0.000384        0.015138            0.540583   \n",
       "Product_Category_3  0.003419    0.013263        0.019473            0.229678   \n",
       "Purchase            0.004716    0.020833       -0.000463           -0.343703   \n",
       "\n",
       "                    Product_Category_2  Product_Category_3  Purchase  \n",
       "User_ID                       0.001529            0.003419  0.004716  \n",
       "Occupation                   -0.000384            0.013263  0.020833  \n",
       "Marital_Status                0.015138            0.019473 -0.000463  \n",
       "Product_Category_1            0.540583            0.229678 -0.343703  \n",
       "Product_Category_2            1.000000            0.543649 -0.209918  \n",
       "Product_Category_3            0.543649            1.000000 -0.022006  \n",
       "Purchase                     -0.209918           -0.022006  1.000000  "
      ]
     },
     "execution_count": 33,
     "metadata": {},
     "output_type": "execute_result"
    }
   ],
   "source": [
    "#32.display the relationships between the numeric columns using 'pearson' method and write conclusions\n",
    "numeric1.corr(method='pearson')\n",
    "#CONCLUSION\n",
    "#User_ID is poorly negatively correlated with Occupation and Purchase \n",
    "#And User_ID is poorly positively correlated with Marital_Status,Product_Category_1,Product_Category_2 and Product_Category_3\n",
    "\n",
    "#Occupation is poorly negatively correlated with Product_Category_1\n",
    "#Occupation is poorly positively correlated with Marital_Status,Product_Category_2,Product_Category_3,Purchase\n",
    "\n",
    "#Product_Category_1 is poorly positively correlated with User_ID,Marital_Status and Product_Category_3\n",
    "#And Product_Category_1 is moderately positively correlated with Product_Category_2\n",
    "#And Product_Category_1 is moderately negatively correlated with Purchase\n",
    "\n",
    "#Product_Category_2 is poorly positively correlated with Marital status \n",
    "#Product_Category_2 is moderately positively correlated with Product_Category_3\n",
    "#Product_Category_2 is poorly negatively correlated with Purchase\n",
    "\n",
    "#Product_Category_3 is poorly positively correlated with Marital status \n",
    "#Product_Category_3 is is poorly negatively correlated with Purchase\n",
    "\n",
    "#Each variable has perfect positive correlation with itself"
   ]
  },
  {
   "cell_type": "code",
   "execution_count": 34,
   "id": "f694cfa8",
   "metadata": {},
   "outputs": [
    {
     "name": "stderr",
     "output_type": "stream",
     "text": [
      "c:\\Users\\pattnaik\\anaconda3\\Lib\\site-packages\\seaborn\\axisgrid.py:118: UserWarning: The figure layout has changed to tight\n",
      "  self._figure.tight_layout(*args, **kwargs)\n"
     ]
    },
    {
     "data": {
      "text/plain": [
       "<seaborn.axisgrid.FacetGrid at 0x1e08be1b690>"
      ]
     },
     "execution_count": 34,
     "metadata": {},
     "output_type": "execute_result"
    },
    {
     "data": {
      "image/png": "[encoded data removed]",
      "text/plain": [
       "<Figure size 500x500 with 1 Axes>"
      ]
     },
     "metadata": {},
     "output_type": "display_data"
    }
   ],
   "source": [
    "#33.draw  histogram and kde curve and write conclusions\n",
    "sns.displot (data=train, x='Age', bins=10, kde=True, color='blue')\n",
    "#26-35 has highest no. of people,hence the people between the age group of 26-35 travel the most\n",
    "#And 0-17 has least no. of the people,hence the people between the age group of 0-17 travel the least"
   ]
  },
  {
   "cell_type": "code",
   "execution_count": 35,
   "id": "d9c3a15f",
   "metadata": {},
   "outputs": [
    {
     "data": {
      "text/plain": [
       "<Axes: xlabel='Product_Category_1', ylabel='Purchase'>"
      ]
     },
     "execution_count": 35,
     "metadata": {},
     "output_type": "execute_result"
    },
    {
     "data": {
      "image/png": "[encoded data removed]",
      "text/plain": [
       "<Figure size 640x480 with 1 Axes>"
      ]
     },
     "metadata": {},
     "output_type": "display_data"
    }
   ],
   "source": [
    "#34.draw regression plot and write conclusions\n",
    "sns.regplot(x='Product_Category_1', y='Purchase', data=train)\n",
    "#Purchase decreases with increase in Product_Category_1 which shows that there is negative realationship between them.\n",
    "#Purchase is moderately negetively correlated with Product_Category_1\n",
    "#purchase=a+slope(Product_category_1)----regression equation"
   ]
  },
  {
   "cell_type": "code",
   "execution_count": 36,
   "id": "4ebfdf35",
   "metadata": {},
   "outputs": [
    {
     "data": {
      "image/png": "[encoded data removed]",
      "text/plain": [
       "<Figure size 640x480 with 1 Axes>"
      ]
     },
     "metadata": {},
     "output_type": "display_data"
    }
   ],
   "source": [
    "#35 draw Pie chart for ‘Gender’ and write conclusions\n",
    "gender_counts = train['Gender'].value_counts()\n",
    "colors = ['yellow', 'green'] \n",
    "plt.pie(gender_counts, labels=gender_counts.index, autopct='%1.1f%%', startangle=90, colors=colors)\n",
    "plt.title(\"Pie Chart for Gender\")\n",
    "plt.show()\n",
    "#CONCLUSIONS\n",
    "# Number of females(24.7%) < Number of Males(75.3%) \n",
    "#this shows that number of females travelling are less than the number of males\n",
    "#this shows that there are roughly 25% females and 75% males"
   ]
  },
  {
   "cell_type": "code",
   "execution_count": 37,
   "id": "01546906",
   "metadata": {},
   "outputs": [
    {
     "data": {
      "text/plain": [
       "'The conclusion drawn from the plot is that the Marital Status for females tends to be higher, \\nexceeding 0.40, while for males, it is at the 0.40 level. \\nTherefore, based on the available data, \\nit appears that a larger proportion of females have Marital Status values greater than 0.40 compared to males.'"
      ]
     },
     "execution_count": 37,
     "metadata": {},
     "output_type": "execute_result"
    },
    {
     "data": {
      "image/png": "[encoded data removed]",
      "text/plain": [
       "<Figure size 640x480 with 1 Axes>"
      ]
     },
     "metadata": {},
     "output_type": "display_data"
    }
   ],
   "source": [
    "#36.draw bar chart for ‘Gender’ and   ’Marital_Status’ and write conclusions\n",
    "sns.barplot(x='Gender',y='Marital_Status',data=train)\n",
    "'''The conclusion drawn from the plot is that the Marital Status for females tends to be higher, \n",
    "exceeding 0.40, while for males, it is at the 0.40 level. \n",
    "Therefore, based on the available data, \n",
    "it appears that a larger proportion of females have Marital Status values greater than 0.40 compared to males.'''\n",
    "#there are more number of married women than married men"
   ]
  },
  {
   "cell_type": "code",
   "execution_count": 38,
   "id": "db2620c7",
   "metadata": {},
   "outputs": [
    {
     "data": {
      "text/plain": [
       "<Axes: xlabel='City_Category', ylabel='count'>"
      ]
     },
     "execution_count": 38,
     "metadata": {},
     "output_type": "execute_result"
    },
    {
     "data": {
      "image/png": "[encoded data removed]",
      "text/plain": [
       "<Figure size 640x480 with 1 Axes>"
      ]
     },
     "metadata": {},
     "output_type": "display_data"
    }
   ],
   "source": [
    "#37.draw countplot for ‘City_Category’ and write conclusions \n",
    "sns.countplot(x = \"City_Category\",data = train)\n",
    "#Conclusion: City B has more count than City A and C i.e. Most passengers are from category B followed by C then A of City_category"
   ]
  },
  {
   "cell_type": "code",
   "execution_count": 39,
   "id": "fdf88a73",
   "metadata": {},
   "outputs": [
    {
     "data": {
      "text/plain": [
       "<Axes: xlabel='Occupation', ylabel='count'>"
      ]
     },
     "execution_count": 39,
     "metadata": {},
     "output_type": "execute_result"
    },
    {
     "data": {
      "image/png": "[encoded data removed]",
      "text/plain": [
       "<Figure size 640x480 with 1 Axes>"
      ]
     },
     "metadata": {},
     "output_type": "display_data"
    }
   ],
   "source": [
    "#38.Draw countplot for ‘Occupation’ and write conclusions\n",
    "sns.countplot(x = \"Occupation\", data = train)\n",
    "#Occupation 4 has highest number of people while Occupation 8 has least number of people"
   ]
  },
  {
   "cell_type": "code",
   "execution_count": 40,
   "id": "4a04cfa9",
   "metadata": {},
   "outputs": [
    {
     "name": "stdout",
     "output_type": "stream",
     "text": [
      "        User_ID Product_ID Gender    Age  Occupation City_Category  \\\n",
      "275033  1000387  P00080042      F  36-45           7             C   \n",
      "233218  1005963  P00110742      M  26-35          15             A   \n",
      "482522  1002239  P00127442      M  18-25          10             A   \n",
      "482523  1002239  P00251242      M  18-25          10             A   \n",
      "482524  1002239  P00134042      M  18-25          10             A   \n",
      "...         ...        ...    ...    ...         ...           ...   \n",
      "158311  1000463  P00106042      M  26-35           7             A   \n",
      "158312  1000463  P00085042      M  26-35           7             A   \n",
      "158313  1000463  P00331042      M  26-35           7             A   \n",
      "158315  1000463  P00240142      M  26-35           7             A   \n",
      "550067  1006039  P00371644      F  46-50           0             B   \n",
      "\n",
      "       Stay_In_Current_City_Years  Marital_Status  Product_Category_1  \\\n",
      "275033                          0               0                   5   \n",
      "233218                          0               0                   1   \n",
      "482522                          0               0                   1   \n",
      "482523                          0               0                   5   \n",
      "482524                          0               0                   5   \n",
      "...                           ...             ...                 ...   \n",
      "158311                         4+               1                   5   \n",
      "158312                         4+               1                   5   \n",
      "158313                         4+               1                   5   \n",
      "158315                         4+               1                   5   \n",
      "550067                         4+               1                  20   \n",
      "\n",
      "        Product_Category_2  Product_Category_3  Purchase  \n",
      "275033                14.0                 NaN      5311  \n",
      "233218                 2.0                 8.0      8128  \n",
      "482522                 2.0                15.0     12048  \n",
      "482523                11.0                 NaN      7095  \n",
      "482524                17.0                 NaN      5155  \n",
      "...                    ...                 ...       ...  \n",
      "158311                 NaN                 NaN      7023  \n",
      "158312                 6.0                 NaN      8629  \n",
      "158313                 8.0                 NaN      5470  \n",
      "158315                 NaN                 NaN      6998  \n",
      "550067                 NaN                 NaN       490  \n",
      "\n",
      "[550068 rows x 12 columns]\n"
     ]
    }
   ],
   "source": [
    "#39.sort the rows depending on a column ‘’ Stay_In_Current_City_Years”\n",
    "train_sort = train.sort_values(by= 'Stay_In_Current_City_Years', ascending=True)\n",
    "print(train_sort)"
   ]
  },
  {
   "cell_type": "code",
   "execution_count": 41,
   "id": "23f5a8ba",
   "metadata": {},
   "outputs": [
    {
     "name": "stdout",
     "output_type": "stream",
     "text": [
      "Conclusion: Box plot shows that product category 1 is negatively skewed\n"
     ]
    },
    {
     "data": {
      "image/png": "[encoded data removed]",
      "text/plain": [
       "<Figure size 640x480 with 1 Axes>"
      ]
     },
     "metadata": {},
     "output_type": "display_data"
    }
   ],
   "source": [
    "#Q40 draw box plot for ‘Product_Category_1’ and write conclusion\n",
    "sns.boxplot(x = \"Product_Category_1\", data = train)\n",
    "print(\"Conclusion: Box plot shows that product category 1 is negatively skewed\")\n",
    "# Rectangle is drawn to represent the second and third quartiles\n",
    "# line inside to indicate the median value\n",
    "# The lower and upper quartiles are shown as horizontal lines either side of the rectangle\n",
    "# the two circle on the right represents the outlier\n",
    "# the breadth of the rectangle show the interquartile range"
   ]
  },
  {
   "cell_type": "code",
   "execution_count": 42,
   "id": "c24c3b79",
   "metadata": {},
   "outputs": [
    {
     "name": "stderr",
     "output_type": "stream",
     "text": [
      "c:\\Users\\pattnaik\\anaconda3\\Lib\\site-packages\\seaborn\\axisgrid.py:118: UserWarning: The figure layout has changed to tight\n",
      "  self._figure.tight_layout(*args, **kwargs)\n"
     ]
    },
    {
     "data": {
      "text/plain": [
       "<seaborn.axisgrid.PairGrid at 0x1e09f4e8c10>"
      ]
     },
     "execution_count": 42,
     "metadata": {},
     "output_type": "execute_result"
    },
    {
     "data": {
      "image/png": "[encoded data removed]",
      "text/plain": [
       "<Figure size 1000x1000 with 20 Axes>"
      ]
     },
     "metadata": {},
     "output_type": "display_data"
    }
   ],
   "source": [
    "#41.Draw pair plots for Product_Category_1, Product_Category_2, Product_Category_3 and Purchase.\n",
    "data=train[['Product_Category_1', 'Product_Category_2', 'Product_Category_3', 'Purchase']]\n",
    "sns.pairplot(data) "
   ]
  },
  {
   "cell_type": "code",
   "execution_count": null,
   "id": "1be41c95",
   "metadata": {},
   "outputs": [],
   "source": []
  },
  {
   "cell_type": "code",
   "execution_count": null,
   "id": "928c1fcd",
   "metadata": {},
   "outputs": [],
   "source": []
  }
 ],
 "metadata": {
  "kernelspec": {
   "display_name": "Python 3 (ipykernel)",
   "language": "python",
   "name": "python3"
  },
  "language_info": {
   "codemirror_mode": {
    "name": "ipython",
    "version": 3
   },
   "file_extension": ".py",
   "mimetype": "text/x-python",
   "name": "python",
   "nbconvert_exporter": "python",
   "pygments_lexer": "ipython3",
   "version": "3.11.5"
  }
 },
 "nbformat": 4,
 "nbformat_minor": 5
}
